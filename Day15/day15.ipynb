{
 "cells": [
  {
   "cell_type": "code",
   "execution_count": 1,
   "metadata": {},
   "outputs": [],
   "source": [
    "class HolidayHash:\n",
    "    def __init__(self, data):\n",
    "        self.data = data\n",
    "        self.value = self.holiday_hashing_helper(self.data)\n",
    "        self.operator = \"=\" if \"=\" in data else \"-\"\n",
    "        label = self.label_hash(self.data)\n",
    "        self.box = label[0]\n",
    "        self.label = label[1]\n",
    "        self.focal_length = label[2]\n",
    "        #print(self.box, self.label, self.focal_length)\n",
    "\n",
    "    def holiday_hashing_helper(self, data):\n",
    "        current = 0\n",
    "        for c in data:\n",
    "            ascii_value = ord(c)\n",
    "            current += ascii_value\n",
    "            current *= 17\n",
    "            current %= 256\n",
    "        return current\n",
    "    \n",
    "    def label_hash(self, data):\n",
    "        if self.operator == \"=\":\n",
    "            data = data.split(\"=\")\n",
    "        if self.operator == \"-\":\n",
    "            data = data.split(\"-\")\n",
    "        return [self.holiday_hashing_helper(data[0]), data[0], data[1]]\n",
    "\n",
    "\n",
    "class Box:\n",
    "    def __init__(self, b_id):\n",
    "        self.box_id = b_id\n",
    "        self.label = []\n",
    "        self.focal_length = []\n",
    "        self.power = 0\n",
    "    \n",
    "    def update_box(self, holiday_hash):\n",
    "        if holiday_hash.label in self.label:\n",
    "            idx = self.label.index(holiday_hash.label)\n",
    "            if holiday_hash.operator == \"-\":\n",
    "                self.label.pop(idx)\n",
    "                self.focal_length.pop(idx)\n",
    "            else:\n",
    "                self.focal_length[idx] = int(holiday_hash.focal_length)\n",
    "        else:\n",
    "            if holiday_hash.operator == \"=\":\n",
    "                self.label.append(holiday_hash.label)\n",
    "                self.focal_length.append(int(holiday_hash.focal_length))\n",
    "\n",
    "    def focusing_power(self):\n",
    "        for i, focal in enumerate(self.focal_length, 1):\n",
    "            self.power += (1 + self.box_id) * i * focal\n",
    "        \n"
   ]
  },
  {
   "cell_type": "code",
   "execution_count": 2,
   "metadata": {},
   "outputs": [
    {
     "name": "stdout",
     "output_type": "stream",
     "text": [
      "Part 1: Hash sum 505459\n",
      "Part 2: Focusing power sum 228508\n"
     ]
    }
   ],
   "source": [
    "hashes = []\n",
    "boxes = []\n",
    "with open(r\"input-15.txt\", \"r\") as file:\n",
    "#with open(r\"test-input-15.txt\", \"r\") as file:\n",
    "    for row in file:\n",
    "        row = row.replace(\"\\n\",\"\")\n",
    "        row = row.split(\",\")\n",
    "        for hs in row:\n",
    "            hashes.append(HolidayHash(hs))\n",
    "\n",
    "    sum = 0\n",
    "    for h in hashes:\n",
    "        sum += h.value\n",
    "    print(\"Part 1: Hash sum\", sum)\n",
    "\n",
    "    for i in range(256):\n",
    "        boxes.append(Box(i))\n",
    "\n",
    "    for h in hashes:\n",
    "        boxes[h.box].update_box(h)\n",
    "\n",
    "    sum2 = 0\n",
    "    for b in boxes:\n",
    "        b.focusing_power()\n",
    "        sum2 += b.power\n",
    "\n",
    "    print(\"Part 2: Focusing power sum\",sum2)"
   ]
  }
 ],
 "metadata": {
  "kernelspec": {
   "display_name": "base",
   "language": "python",
   "name": "python3"
  },
  "language_info": {
   "codemirror_mode": {
    "name": "ipython",
    "version": 3
   },
   "file_extension": ".py",
   "mimetype": "text/x-python",
   "name": "python",
   "nbconvert_exporter": "python",
   "pygments_lexer": "ipython3",
   "version": "3.8.3"
  }
 },
 "nbformat": 4,
 "nbformat_minor": 2
}
