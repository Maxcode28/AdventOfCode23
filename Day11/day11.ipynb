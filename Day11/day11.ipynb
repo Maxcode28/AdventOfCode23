{
 "cells": [
  {
   "cell_type": "code",
   "execution_count": 18,
   "metadata": {},
   "outputs": [],
   "source": [
    "Part1 = False\n",
    "class Galaxy:\n",
    "    def __init__(self, row, column):\n",
    "        self.row = row\n",
    "        self.column = column\n",
    "\n",
    "    def expansion(self, rows, columns): # Expansion always the row above and column to the left\n",
    "        r_expanse = 0\n",
    "        for r in rows:\n",
    "            #print(r)\n",
    "            if r <= self.row:\n",
    "                r_expanse += 1\n",
    "            else:\n",
    "                break\n",
    "        c_expanse = 0\n",
    "        for c in columns:\n",
    "            #print(c)\n",
    "            if c <= self.column:\n",
    "                c_expanse += 1\n",
    "        if Part1:\n",
    "            self.row += r_expanse\n",
    "            self.column += c_expanse\n",
    "        \n",
    "        self.row += r_expanse * (1000000 - 1)\n",
    "        self.column += c_expanse * (1000000 - 1)\n",
    "\n",
    "class GalaxyPair:\n",
    "    def __init__(self, g1, g2):\n",
    "        self.g1 = g1\n",
    "        self.g2 = g2\n",
    "        self.distance = abs(g1.row - g2.row) + abs(g1.column - g2.column)\n",
    "        #print(g1.row, g1.column, g2.row, g2.column, self.distance)\n"
   ]
  },
  {
   "cell_type": "code",
   "execution_count": 20,
   "metadata": {},
   "outputs": [
    {
     "name": "stdout",
     "output_type": "stream",
     "text": [
      "[7, 13, 28, 58, 80, 82, 129]\n",
      "[54, 60, 72, 80, 86, 87, 125, 129]\n",
      "553083047914\n"
     ]
    }
   ],
   "source": [
    "galaxies = []\n",
    "galaxy_pairs = []\n",
    "data = []\n",
    "galaxyless_rows = []\n",
    "galaxyless_columns = []\n",
    "\n",
    "with open(r\"input-11.txt\", \"r\") as file:\n",
    "#with open(r\"test-input-11.txt\", \"r\") as file:\n",
    "    for r_num, row in enumerate(file):\n",
    "        row = row.replace(\"\\n\", \"\")\n",
    "        column_size = len(row)\n",
    "        data.append(row)       \n",
    "        galaxy_in_row = False\n",
    "        characters = [c for c in row]\n",
    "        if r_num == 0:\n",
    "            galaxyless_columns = list(range(len(characters)))\n",
    "\n",
    "        for i,c in enumerate(characters):\n",
    "            if c == \"#\":\n",
    "                galaxy_in_row = True\n",
    "                if i in galaxyless_columns:\n",
    "                    galaxyless_columns.remove(i)\n",
    "                galaxies.append(Galaxy(r_num, i))\n",
    "\n",
    "        if not galaxy_in_row:\n",
    "            galaxyless_rows.append(r_num)\n",
    "\n",
    "    for g in galaxies:\n",
    "        g.expansion(galaxyless_rows, galaxyless_columns)\n",
    "\n",
    "    for g_idx, g in enumerate(galaxies):\n",
    "        for j in range(g_idx + 1, len(galaxies)):\n",
    "            galaxy_pairs.append(GalaxyPair(g, galaxies[j]))\n",
    "\n",
    "print(galaxyless_columns)\n",
    "print(galaxyless_rows)\n",
    "sum = 0\n",
    "for gp in galaxy_pairs:\n",
    "    sum += gp.distance\n",
    "\n",
    "print(sum)\n"
   ]
  }
 ],
 "metadata": {
  "kernelspec": {
   "display_name": "base",
   "language": "python",
   "name": "python3"
  },
  "language_info": {
   "codemirror_mode": {
    "name": "ipython",
    "version": 3
   },
   "file_extension": ".py",
   "mimetype": "text/x-python",
   "name": "python",
   "nbconvert_exporter": "python",
   "pygments_lexer": "ipython3",
   "version": "3.8.3"
  }
 },
 "nbformat": 4,
 "nbformat_minor": 2
}
