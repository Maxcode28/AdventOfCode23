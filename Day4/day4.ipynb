{
 "cells": [
  {
   "cell_type": "code",
   "execution_count": 5,
   "metadata": {},
   "outputs": [],
   "source": [
    "class Card:\n",
    "    def __init__(self, id, winners, numbers):\n",
    "        self.cardID = id\n",
    "        self.numbers = split_sort(numbers)\n",
    "        self.points = 0\n",
    "        self.won_numbers = []\n",
    "        self.winners = split_sort(winners)\n",
    "\n",
    "    def check_winning(self):\n",
    "        head = 0\n",
    "        for w in self.winners:\n",
    "            for n, val in enumerate(self.numbers, start = head):\n",
    "                if val == w:\n",
    "                    self.won_numbers.append(w)\n",
    "                    self.update_points()\n",
    "                    head = n\n",
    "                    continue\n",
    "                elif val < w:\n",
    "                    head = max(n - 1, 0)\n",
    "                    continue\n",
    "        return self.points\n",
    "\n",
    "    def update_points(self):\n",
    "        self.points = pow(2, len(self.won_numbers) - 1)\n",
    "        \n",
    "def split_sort(values):\n",
    "    values_l = values.split(\" \")\n",
    "    val = []\n",
    "    for v in values_l:\n",
    "        val.append(int(v))\n",
    "    val.sort()\n",
    "    return val\n",
    "\n",
    "def get_id(content):\n",
    "    number = content.split(\" \")\n",
    "    return int(number[-1])"
   ]
  },
  {
   "cell_type": "code",
   "execution_count": 7,
   "metadata": {},
   "outputs": [
    {
     "name": "stdout",
     "output_type": "stream",
     "text": [
      "[<__main__.Card object at 0x7fb52259b340>, <__main__.Card object at 0x7fb523697940>, <__main__.Card object at 0x7fb523697160>, <__main__.Card object at 0x7fb523697370>, <__main__.Card object at 0x7fb5225cdee0>, <__main__.Card object at 0x7fb5225cd6d0>, <__main__.Card object at 0x7fb5225cdd90>, <__main__.Card object at 0x7fb5226d5fd0>, <__main__.Card object at 0x7fb5226d5b20>, <__main__.Card object at 0x7fb5226d5880>, <__main__.Card object at 0x7fb5225e74c0>, <__main__.Card object at 0x7fb5225e7130>, <__main__.Card object at 0x7fb5225e70a0>, <__main__.Card object at 0x7fb5225e7580>, <__main__.Card object at 0x7fb5225e7370>, <__main__.Card object at 0x7fb5225e73d0>, <__main__.Card object at 0x7fb5225e7250>, <__main__.Card object at 0x7fb5225e72b0>, <__main__.Card object at 0x7fb5225e75b0>, <__main__.Card object at 0x7fb5225e7160>, <__main__.Card object at 0x7fb5225e7610>, <__main__.Card object at 0x7fb5225e75e0>, <__main__.Card object at 0x7fb5225e77c0>, <__main__.Card object at 0x7fb5225e74f0>, <__main__.Card object at 0x7fb5225e7760>, <__main__.Card object at 0x7fb5225e7490>, <__main__.Card object at 0x7fb5225e7670>, <__main__.Card object at 0x7fb52369c070>, <__main__.Card object at 0x7fb52369c0d0>, <__main__.Card object at 0x7fb52369c130>, <__main__.Card object at 0x7fb52369c190>, <__main__.Card object at 0x7fb52369c1f0>, <__main__.Card object at 0x7fb52369c250>, <__main__.Card object at 0x7fb52369c2b0>, <__main__.Card object at 0x7fb52369c310>, <__main__.Card object at 0x7fb52369c3a0>, <__main__.Card object at 0x7fb52369c400>, <__main__.Card object at 0x7fb52369c460>, <__main__.Card object at 0x7fb52369c4c0>, <__main__.Card object at 0x7fb52369c520>, <__main__.Card object at 0x7fb52369c580>, <__main__.Card object at 0x7fb52369c5e0>, <__main__.Card object at 0x7fb52369c640>, <__main__.Card object at 0x7fb52369c6a0>, <__main__.Card object at 0x7fb52369c6d0>, <__main__.Card object at 0x7fb52369c730>, <__main__.Card object at 0x7fb52369c790>, <__main__.Card object at 0x7fb52369c7f0>, <__main__.Card object at 0x7fb52369c850>, <__main__.Card object at 0x7fb52369c8b0>, <__main__.Card object at 0x7fb52369c910>, <__main__.Card object at 0x7fb52369c970>, <__main__.Card object at 0x7fb52369ca30>, <__main__.Card object at 0x7fb52369ca90>, <__main__.Card object at 0x7fb52369caf0>, <__main__.Card object at 0x7fb52369cb50>, <__main__.Card object at 0x7fb52369cbb0>, <__main__.Card object at 0x7fb52369cc10>, <__main__.Card object at 0x7fb52369cc70>, <__main__.Card object at 0x7fb52369ccd0>, <__main__.Card object at 0x7fb52369ca00>, <__main__.Card object at 0x7fb52369cd60>, <__main__.Card object at 0x7fb52369cdc0>, <__main__.Card object at 0x7fb52369ce20>, <__main__.Card object at 0x7fb52369ce80>, <__main__.Card object at 0x7fb52369cee0>, <__main__.Card object at 0x7fb52369cf40>, <__main__.Card object at 0x7fb52369cfd0>, <__main__.Card object at 0x7fb52369c9a0>, <__main__.Card object at 0x7fb5237c0070>, <__main__.Card object at 0x7fb5237c00d0>, <__main__.Card object at 0x7fb5237c0130>, <__main__.Card object at 0x7fb5237c0190>, <__main__.Card object at 0x7fb5237c01f0>, <__main__.Card object at 0x7fb5237c0250>, <__main__.Card object at 0x7fb5237c02b0>, <__main__.Card object at 0x7fb5237c0310>, <__main__.Card object at 0x7fb5237c0370>, <__main__.Card object at 0x7fb5237c03d0>, <__main__.Card object at 0x7fb5237c0430>, <__main__.Card object at 0x7fb5237c0490>, <__main__.Card object at 0x7fb5237c04f0>, <__main__.Card object at 0x7fb5237c0550>, <__main__.Card object at 0x7fb5237c05b0>, <__main__.Card object at 0x7fb5237c0610>, <__main__.Card object at 0x7fb5237c0670>, <__main__.Card object at 0x7fb5237c06d0>, <__main__.Card object at 0x7fb5237c0730>, <__main__.Card object at 0x7fb5237c0790>, <__main__.Card object at 0x7fb5237c07f0>, <__main__.Card object at 0x7fb5237c0850>, <__main__.Card object at 0x7fb5237c08b0>, <__main__.Card object at 0x7fb5237c0910>, <__main__.Card object at 0x7fb5237c0970>, <__main__.Card object at 0x7fb5237c09d0>, <__main__.Card object at 0x7fb5237c0a30>, <__main__.Card object at 0x7fb5237c0a90>, <__main__.Card object at 0x7fb5237c0af0>, <__main__.Card object at 0x7fb5237c0b50>, <__main__.Card object at 0x7fb5237c0bb0>, <__main__.Card object at 0x7fb5237c0c10>, <__main__.Card object at 0x7fb5237c0c70>, <__main__.Card object at 0x7fb5237c0cd0>, <__main__.Card object at 0x7fb5237c0d30>, <__main__.Card object at 0x7fb5237c0d90>, <__main__.Card object at 0x7fb5237c0df0>, <__main__.Card object at 0x7fb5237c0e50>, <__main__.Card object at 0x7fb5237c0eb0>, <__main__.Card object at 0x7fb5237c0f10>, <__main__.Card object at 0x7fb5237c0f70>, <__main__.Card object at 0x7fb5237c0fd0>, <__main__.Card object at 0x7fb5237c7070>, <__main__.Card object at 0x7fb5237c70d0>, <__main__.Card object at 0x7fb5237c7130>, <__main__.Card object at 0x7fb5237c7190>, <__main__.Card object at 0x7fb5237c71f0>, <__main__.Card object at 0x7fb5237c7250>, <__main__.Card object at 0x7fb5226d5a00>, <__main__.Card object at 0x7fb5237c72b0>, <__main__.Card object at 0x7fb5237c7310>, <__main__.Card object at 0x7fb5237c7370>, <__main__.Card object at 0x7fb5237c73d0>, <__main__.Card object at 0x7fb5237c7430>, <__main__.Card object at 0x7fb5237c7490>, <__main__.Card object at 0x7fb5237c74f0>, <__main__.Card object at 0x7fb5237c7550>, <__main__.Card object at 0x7fb5237c75b0>, <__main__.Card object at 0x7fb5237c7610>, <__main__.Card object at 0x7fb5237c7670>, <__main__.Card object at 0x7fb5237c76d0>, <__main__.Card object at 0x7fb5237c7730>, <__main__.Card object at 0x7fb5237c7790>, <__main__.Card object at 0x7fb5237c77f0>, <__main__.Card object at 0x7fb5237c7850>, <__main__.Card object at 0x7fb5237c78b0>, <__main__.Card object at 0x7fb5237c7910>, <__main__.Card object at 0x7fb5237c7970>, <__main__.Card object at 0x7fb5237c79d0>, <__main__.Card object at 0x7fb5237c7a30>, <__main__.Card object at 0x7fb5237c7a90>, <__main__.Card object at 0x7fb5237c7af0>, <__main__.Card object at 0x7fb5237c7b50>, <__main__.Card object at 0x7fb5237c7bb0>, <__main__.Card object at 0x7fb5237c7c10>, <__main__.Card object at 0x7fb5237c7c70>, <__main__.Card object at 0x7fb5237c7cd0>, <__main__.Card object at 0x7fb5237c7d30>, <__main__.Card object at 0x7fb5237c7d90>, <__main__.Card object at 0x7fb5237c7df0>, <__main__.Card object at 0x7fb5237c7e50>, <__main__.Card object at 0x7fb5237c7eb0>, <__main__.Card object at 0x7fb5237c7f10>, <__main__.Card object at 0x7fb5237c7f70>, <__main__.Card object at 0x7fb5237c7fd0>, <__main__.Card object at 0x7fb5237cd070>, <__main__.Card object at 0x7fb5237cd0d0>, <__main__.Card object at 0x7fb5237cd130>, <__main__.Card object at 0x7fb5237cd190>, <__main__.Card object at 0x7fb5237cd1f0>, <__main__.Card object at 0x7fb5237cd250>, <__main__.Card object at 0x7fb5237cd2b0>, <__main__.Card object at 0x7fb5237cd310>, <__main__.Card object at 0x7fb5237cd370>, <__main__.Card object at 0x7fb5237cd3d0>, <__main__.Card object at 0x7fb5237cd430>, <__main__.Card object at 0x7fb5237cd490>, <__main__.Card object at 0x7fb5237cd4f0>, <__main__.Card object at 0x7fb5237cd550>, <__main__.Card object at 0x7fb5237cd5b0>, <__main__.Card object at 0x7fb5237cd610>, <__main__.Card object at 0x7fb5237cd670>, <__main__.Card object at 0x7fb5237cd6d0>, <__main__.Card object at 0x7fb5237cd730>, <__main__.Card object at 0x7fb5237cd790>, <__main__.Card object at 0x7fb5237cd7f0>, <__main__.Card object at 0x7fb5237cd850>, <__main__.Card object at 0x7fb5237cd8b0>, <__main__.Card object at 0x7fb5237cd910>, <__main__.Card object at 0x7fb5237cd970>, <__main__.Card object at 0x7fb5237cd9d0>, <__main__.Card object at 0x7fb5237cda30>, <__main__.Card object at 0x7fb5237cda90>, <__main__.Card object at 0x7fb5237cdaf0>, <__main__.Card object at 0x7fb5237cdb50>, <__main__.Card object at 0x7fb5237cdbb0>, <__main__.Card object at 0x7fb5237cdc10>, <__main__.Card object at 0x7fb5237cdc70>, <__main__.Card object at 0x7fb5237cdcd0>, <__main__.Card object at 0x7fb5237cdd30>]\n",
      "21105\n"
     ]
    }
   ],
   "source": [
    "cards = []\n",
    "with open(r\"input-4.txt\", \"r\") as file:\n",
    "#with open(r\"input-4.txt\", \"r\") as file:\n",
    "    for row in file:\n",
    "        row = row.replace(\"\\n\", \"\")\n",
    "        row = row.replace(\"  \", \" \")\n",
    "        sub_card = row.split(\": \")\n",
    "        card_id = get_id(sub_card[0])\n",
    "        card_content = sub_card[1].split(\" | \")\n",
    "        cards.append(Card(card_id, card_content[0], card_content[1]))\n",
    "\n",
    "    winning_sum = 0\n",
    "    for c in cards:\n",
    "        winning_sum = winning_sum + c.check_winning()\n",
    "\n",
    "    print(winning_sum)\n",
    "        "
   ]
  }
 ],
 "metadata": {
  "kernelspec": {
   "display_name": "base",
   "language": "python",
   "name": "python3"
  },
  "language_info": {
   "codemirror_mode": {
    "name": "ipython",
    "version": 3
   },
   "file_extension": ".py",
   "mimetype": "text/x-python",
   "name": "python",
   "nbconvert_exporter": "python",
   "pygments_lexer": "ipython3",
   "version": "3.8.3"
  }
 },
 "nbformat": 4,
 "nbformat_minor": 2
}
