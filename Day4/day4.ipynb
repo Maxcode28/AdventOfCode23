{
 "cells": [
  {
   "cell_type": "code",
   "execution_count": 1,
   "metadata": {},
   "outputs": [],
   "source": [
    "class Card:\n",
    "    def __init__(self, id, winners, numbers):\n",
    "        self.cardID = id\n",
    "        self.numbers = split_sort(numbers)\n",
    "        self.points = 0\n",
    "        self.won_numbers = []\n",
    "        self.winners = split_sort(winners)\n",
    "        self.copies = 0\n",
    "\n",
    "    def check_winning(self):\n",
    "        head = 0\n",
    "        for w in self.winners:\n",
    "            for n, val in enumerate(self.numbers, start = head):\n",
    "                if val == w:\n",
    "                    self.won_numbers.append(w)\n",
    "                    self.update_points()\n",
    "                    head = n\n",
    "                    continue\n",
    "                elif val < w:\n",
    "                    head = max(n - 1, 0)\n",
    "                    continue\n",
    "        return self.points\n",
    "\n",
    "    def update_points(self):\n",
    "        self.points = pow(2, len(self.won_numbers) - 1)\n",
    "\n",
    "    def won_copies(self, copy):\n",
    "        self.copies = self.copies + copy\n",
    "        \n",
    "def split_sort(values):\n",
    "    values_l = values.split(\" \")\n",
    "    val = []\n",
    "    for v in values_l:\n",
    "        val.append(int(v))\n",
    "    val.sort()\n",
    "    return val\n",
    "\n",
    "def get_id(content):\n",
    "    number = content.split(\" \")\n",
    "    return int(number[-1])"
   ]
  },
  {
   "cell_type": "code",
   "execution_count": 2,
   "metadata": {},
   "outputs": [
    {
     "name": "stdout",
     "output_type": "stream",
     "text": [
      "Amount of won scratches: 21105\n",
      "Number of cards: 5329815\n"
     ]
    }
   ],
   "source": [
    "# Part 1:\n",
    "cards = []\n",
    "with open(r\"input-4.txt\", \"r\") as file:\n",
    "#with open(r\"test-input-4.txt\", \"r\") as file:\n",
    "    for row in file:\n",
    "        row = row.replace(\"\\n\", \"\")\n",
    "        row = row.replace(\"  \", \" \")\n",
    "        sub_card = row.split(\": \")\n",
    "        card_id = get_id(sub_card[0])\n",
    "        card_content = sub_card[1].split(\" | \")\n",
    "        cards.append(Card(card_id, card_content[0], card_content[1]))\n",
    "\n",
    "    winning_sum = 0\n",
    "    for c in cards:\n",
    "        winning_sum = winning_sum + c.check_winning()\n",
    "\n",
    "    print(\"Amount of won scratches:\", winning_sum)\n",
    "\n",
    "#Part 2:\n",
    "num_of_cards = 0\n",
    "for it,c in enumerate(cards):\n",
    "    wins = len(c.won_numbers)\n",
    "    copies = c.copies\n",
    "    num_of_cards = num_of_cards + 1 + copies\n",
    "    for i in range(1, wins + 1):\n",
    "        if (it + i) < len(cards):\n",
    "            cards[it + i].won_copies(copies + 1)\n",
    "    \n",
    "print(\"Number of cards:\", num_of_cards)\n",
    "        "
   ]
  }
 ],
 "metadata": {
  "kernelspec": {
   "display_name": "base",
   "language": "python",
   "name": "python3"
  },
  "language_info": {
   "codemirror_mode": {
    "name": "ipython",
    "version": 3
   },
   "file_extension": ".py",
   "mimetype": "text/x-python",
   "name": "python",
   "nbconvert_exporter": "python",
   "pygments_lexer": "ipython3",
   "version": "3.8.3"
  }
 },
 "nbformat": 4,
 "nbformat_minor": 2
}
