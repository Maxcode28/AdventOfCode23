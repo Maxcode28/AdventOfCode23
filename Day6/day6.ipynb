{
 "cells": [
  {
   "cell_type": "code",
   "execution_count": 33,
   "metadata": {},
   "outputs": [],
   "source": [
    "class Race:\n",
    "    def __init__(self, id, time, record):\n",
    "        self.id = id\n",
    "        self.time = time\n",
    "        self.record = record\n",
    "        self.acceleration = 1 #millimeter per millisecond^2\n",
    "        self.min_press = self._min_time_to_beat()\n",
    "        self.max_press = self._max_time_to_beat()\n",
    "        self.number_poss = self.max_press - self.min_press + 1\n",
    "\n",
    "    def _min_time_to_beat(self):\n",
    "        for i in range(self.time + 1):\n",
    "            distance = self._distance(i)\n",
    "            if distance > self.record:\n",
    "                return i\n",
    "        return -1\n",
    "\n",
    "    def _max_time_to_beat(self):\n",
    "        for i in range(self.time + 1):\n",
    "            distance = self._distance(self.time - i)\n",
    "            if distance > self.record:\n",
    "                return self.time - i\n",
    "        return -1\n",
    "\n",
    "    def _distance(self, time_pressed):\n",
    "        return (self.time - time_pressed) * (time_pressed * self.acceleration)"
   ]
  },
  {
   "cell_type": "code",
   "execution_count": 34,
   "metadata": {},
   "outputs": [
    {
     "name": "stdout",
     "output_type": "stream",
     "text": [
      "140220\n"
     ]
    }
   ],
   "source": [
    "times = []\n",
    "records = []\n",
    "races = []\n",
    "with open(r\"input-6.txt\", \"r\") as file:\n",
    "#with open(r\"test-input-6.txt\", \"r\") as file:\n",
    "    for r_num, row in enumerate(file):\n",
    "        row = row.replace(\"\\n\", \"\")\n",
    "        row = row.split(\" \")\n",
    "        data = []\n",
    "        for el_num, el in enumerate(row):\n",
    "            if el != \"\" and el_num > 0:\n",
    "                data.append(el)\n",
    "        if r_num == 0:\n",
    "            times = data\n",
    "        elif r_num == 1:\n",
    "            records = data\n",
    "\n",
    "race_prod = 1\n",
    "for idx,time in enumerate(times):\n",
    "    races.append(Race(idx,int(time),int(records[idx])))\n",
    "    race_prod = race_prod * races[idx].number_poss\n",
    "\n",
    "print(race_prod)\n",
    "        \n"
   ]
  },
  {
   "cell_type": "code",
   "execution_count": 35,
   "metadata": {},
   "outputs": [
    {
     "name": "stdout",
     "output_type": "stream",
     "text": [
      "39570185\n"
     ]
    }
   ],
   "source": [
    "time_together = \"\"\n",
    "record_together = \"\"\n",
    "for time in times:\n",
    "    time_together = \"\".join([time_together,time])\n",
    "for record in records:\n",
    "    record_together = \"\".join([record_together,record])\n",
    "\n",
    "long_race = Race(0,int(time_together), int(record_together))\n",
    "\n",
    "print(long_race.number_poss)"
   ]
  }
 ],
 "metadata": {
  "kernelspec": {
   "display_name": "base",
   "language": "python",
   "name": "python3"
  },
  "language_info": {
   "codemirror_mode": {
    "name": "ipython",
    "version": 3
   },
   "file_extension": ".py",
   "mimetype": "text/x-python",
   "name": "python",
   "nbconvert_exporter": "python",
   "pygments_lexer": "ipython3",
   "version": "3.8.3"
  }
 },
 "nbformat": 4,
 "nbformat_minor": 2
}
