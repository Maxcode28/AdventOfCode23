{
 "cells": [
  {
   "cell_type": "code",
   "execution_count": 1,
   "metadata": {},
   "outputs": [],
   "source": [
    "number_str = [\"one\", \"two\", \"three\", \"four\", \"five\", \"six\", \"seven\", \"eight\", \"nine\"]"
   ]
  },
  {
   "cell_type": "code",
   "execution_count": 2,
   "metadata": {},
   "outputs": [
    {
     "name": "stdout",
     "output_type": "stream",
     "text": [
      "54697\n"
     ]
    }
   ],
   "source": [
    "#Result Part1\n",
    "all_numbers = []\n",
    "#with open(r\"test-input-1-2.txt\", \"r\") as file:\n",
    "with open(r\"input-1.txt\", \"r\") as file:\n",
    "    for row in file:\n",
    "        row = row.replace(\"\\n\",\"\")\n",
    "        row_chars = [c for c in row]\n",
    "        numbers = []\n",
    "        for character in row_chars:\n",
    "            if character.isnumeric():\n",
    "                numbers.append(character)\n",
    "        f_l = [numbers[0],numbers[-1]]\n",
    "        result = \"\".join(f_l)\n",
    "        all_numbers.append(result)\n",
    "        #print(row)\n",
    "        #print(result)\n",
    "        #print(row_chars)\n",
    "sum = 0\n",
    "for number in all_numbers:\n",
    "    sum = sum + int(number)\n",
    "print(sum)\n",
    "\n",
    "#54878 too low"
   ]
  },
  {
   "cell_type": "code",
   "execution_count": 3,
   "metadata": {},
   "outputs": [
    {
     "name": "stdout",
     "output_type": "stream",
     "text": [
      "54885\n"
     ]
    }
   ],
   "source": [
    "#Result part2\n",
    "all_numbers2 = []\n",
    "#with open(r\"test-input-1-2.txt\", \"r\") as file:\n",
    "with open(r\"input-1.txt\", \"r\") as file:\n",
    "    for row in file:\n",
    "        row = row.replace(\"\\n\",\"\")\n",
    "        \n",
    "        #strings_not_converted = True\n",
    "        #while(strings_not_converted):    \n",
    "        #    start_pos = []\n",
    "        #    strings_not_converted = False\n",
    "        #    for idx, text_num in enumerate(number_str):\n",
    "        #        substring_start = row.find(text_num)\n",
    "        #        if substring_start != -1:\n",
    "        #            start_pos.append([row.find(text_num),idx])\n",
    "        #            strings_not_converted = True\n",
    "        #    if (start_pos)== []:\n",
    "        #        strings_not_converted = False\n",
    "        #    #print(start_pos)\n",
    "        #    start_pos.sort()\n",
    "        #    #print(start_pos)\n",
    "        #    if (start_pos != []):\n",
    "        #        row = row.replace(number_str[start_pos[0][1]],str((start_pos[0][1]+ 1)),1)\n",
    "        #    \n",
    "        #    #print(row)\n",
    "        \n",
    "\n",
    "        #print(row)\n",
    "\n",
    "\n",
    "        row_chars2 = [c for c in row]\n",
    "        numbers2 = []\n",
    "        for idx, character in enumerate(row_chars2):\n",
    "            if character.isnumeric():\n",
    "                numbers2.append(character)\n",
    "            else:\n",
    "                start_pos = []\n",
    "                for numb, text_num in enumerate(number_str, start=1):\n",
    "                    substring_start = row.find(text_num,idx)\n",
    "                    if substring_start != -1:\n",
    "                        start_pos.append([substring_start,numb])\n",
    "                start_pos.sort()\n",
    "                if start_pos !=[]:\n",
    "                    if start_pos[0][0]==idx:\n",
    "                        numbers2.append(str(start_pos[0][1]))\n",
    "            \n",
    "        f_l2 = [numbers2[0],numbers2[-1]]\n",
    "        result = \"\".join(f_l2)\n",
    "        all_numbers2.append(result)\n",
    "\n",
    "sum2 = 0\n",
    "for number in all_numbers2:\n",
    "    sum2 = sum2 + int(number)\n",
    "print(sum2)\n",
    "\n"
   ]
  }
 ],
 "metadata": {
  "kernelspec": {
   "display_name": "Python 3",
   "language": "python",
   "name": "python3"
  },
  "language_info": {
   "codemirror_mode": {
    "name": "ipython",
    "version": 3
   },
   "file_extension": ".py",
   "mimetype": "text/x-python",
   "name": "python",
   "nbconvert_exporter": "python",
   "pygments_lexer": "ipython3",
   "version": "3.8.3"
  }
 },
 "nbformat": 4,
 "nbformat_minor": 2
}
