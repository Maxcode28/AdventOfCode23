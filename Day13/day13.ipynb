{
 "cells": [
  {
   "cell_type": "code",
   "execution_count": 1,
   "metadata": {},
   "outputs": [],
   "source": [
    "class Pattern:\n",
    "    def __init__(self) -> None:\n",
    "        self.pattern = []\n",
    "        self.vertical_possibilities = []\n",
    "        self.horizontal_possibilities = []\n",
    "\n",
    "    def add_subpattern(self, pattern):\n",
    "        self.pattern.append(pattern[:])\n",
    "        self.horizontal_possibilities = self._check_horizontal_possibilities()\n",
    "        vertical = self._check_vertical_possibilities(pattern[:])\n",
    "        new_v = list()\n",
    "        if len(self.pattern) > 1:\n",
    "            for v in vertical:\n",
    "                if v in self.vertical_possibilities:\n",
    "                    new_v.append(v)\n",
    "            self.vertical_possibilities = new_v\n",
    "        else:\n",
    "            self.vertical_possibilities = vertical\n",
    "\n",
    "    def _check_vertical_possibilities(self, pattern):\n",
    "        r_elements = [c for c in pattern]\n",
    "        vertical = list(range(1, len(pattern)))\n",
    "        for v in range(1, len(r_elements)):\n",
    "            for i in range(len(r_elements)):\n",
    "                if i < v and (2 * v - i - 1 < len(r_elements)):\n",
    "                    if r_elements[i] != r_elements[(2 * v - i - 1)] and v in vertical:\n",
    "                        vertical.remove(v)\n",
    "        return vertical\n",
    "\n",
    "    def _check_horizontal_possibilities(self):\n",
    "        rows = len(self.pattern)\n",
    "        horizontal = list(range(1, rows))\n",
    "        for h in range(1, rows): # Mirror position\n",
    "            for i in range(rows): # Element position\n",
    "                if i < h and (2 * h - i - 1) < rows:\n",
    "                    if self.pattern[i] != self.pattern[(2 * h - i - 1)] and h in horizontal:\n",
    "                        horizontal.remove(h)\n",
    "        return horizontal"
   ]
  },
  {
   "cell_type": "code",
   "execution_count": 2,
   "metadata": {},
   "outputs": [
    {
     "name": "stdout",
     "output_type": "stream",
     "text": [
      "34821\n"
     ]
    }
   ],
   "source": [
    "patterns = [Pattern()]\n",
    "with open(r\"input-13.txt\", \"r\") as file:\n",
    "#with open(r\"test-input-13.txt\", \"r\") as file:\n",
    "    for r_num, row in enumerate(file):\n",
    "        row = row.replace(\"\\n\", \"\")\n",
    "        if row == \"\":\n",
    "            patterns.append(Pattern())\n",
    "        else:\n",
    "            patterns[-1].add_subpattern(row)\n",
    "\n",
    "a_rows = 0\n",
    "columns = 0\n",
    "for p in patterns:\n",
    "    if p.vertical_possibilities != []:\n",
    "        columns += int(p.vertical_possibilities[0])\n",
    "    if p.horizontal_possibilities != []:\n",
    "        a_rows += int(p.horizontal_possibilities[0])\n",
    "sum = columns + 100 * a_rows\n",
    "print(sum)\n"
   ]
  }
 ],
 "metadata": {
  "kernelspec": {
   "display_name": "base",
   "language": "python",
   "name": "python3"
  },
  "language_info": {
   "codemirror_mode": {
    "name": "ipython",
    "version": 3
   },
   "file_extension": ".py",
   "mimetype": "text/x-python",
   "name": "python",
   "nbconvert_exporter": "python",
   "pygments_lexer": "ipython3",
   "version": "3.8.3"
  }
 },
 "nbformat": 4,
 "nbformat_minor": 2
}
