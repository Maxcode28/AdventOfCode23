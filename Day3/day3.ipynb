{
 "cells": [
  {
   "cell_type": "code",
   "execution_count": 60,
   "metadata": {},
   "outputs": [],
   "source": [
    "class Number:\n",
    "    def __init__(self, row, start, end, value):\n",
    "        self.value = value\n",
    "        self.row = row\n",
    "        self.start = start\n",
    "        self.end = end\n",
    "        self.valid = False\n",
    "\n",
    "    def symbol_check(self, matrix):\n",
    "        start_row = self.row - 1\n",
    "        if self.row == 0:\n",
    "            start_row = 0\n",
    "        end_row = self.row + 1\n",
    "        if self.row == len(matrix) - 1:\n",
    "            end_row = len(matrix) - 1\n",
    "        start_idx = self.start - 1\n",
    "        if self.start == 0:\n",
    "            start_idx = 0\n",
    "        end_idx = self.end + 1\n",
    "        if self.end == len(matrix[0]) - 1:\n",
    "            end_idx = len(matrix[0]) - 1\n",
    "\n",
    "        for i in range(start_row, end_row + 1):\n",
    "            for j in range(start_idx, end_idx + 1):\n",
    "                if (not matrix[i][j].isspace() and not matrix[i][j].isnumeric()):\n",
    "                    self.valid = True\n",
    "\n",
    "    def get_value(self):\n",
    "        if self.valid:\n",
    "            return self.value\n",
    "        return 0\n",
    "\n"
   ]
  },
  {
   "cell_type": "code",
   "execution_count": 61,
   "metadata": {},
   "outputs": [
    {
     "name": "stdout",
     "output_type": "stream",
     "text": [
      "536202\n"
     ]
    }
   ],
   "source": [
    "element_matrix = []\n",
    "numbers_list = []\n",
    "#with open(r\"test-input-3.txt\", \"r\") as file:\n",
    "with open(r\"input-3.txt\", \"r\") as file:\n",
    "    for r_num, row in enumerate(file):\n",
    "        row = row.replace(\"\\n\", \"*\")\n",
    "        row = row.replace(\".\", \" \")\n",
    "        elements = [c for c in row]\n",
    "        element_matrix.append(elements)\n",
    "\n",
    "number_positions = []\n",
    "for row_number, row in enumerate(element_matrix):\n",
    "    temp_number_els = []\n",
    "    start = -1\n",
    "    end = -1\n",
    "    for idx, element in enumerate(row):\n",
    "        if element.isnumeric():\n",
    "            temp_number_els.append(element)\n",
    "            if start == -1:\n",
    "                start = idx\n",
    "        elif temp_number_els == []:\n",
    "            continue\n",
    "        else:\n",
    "            end = idx - 1\n",
    "            add_number = \"\".join(temp_number_els)\n",
    "            numbers_list.append(Number(row_number,start,end,int(add_number)))\n",
    "            temp_number_els = []\n",
    "            start = -1\n",
    "\n",
    "sum = 0\n",
    "for numb in numbers_list:\n",
    "    numb.symbol_check(element_matrix)\n",
    "    sum = sum + numb.get_value()\n",
    "\n",
    "print(sum)\n"
   ]
  },
  {
   "cell_type": "code",
   "execution_count": null,
   "metadata": {},
   "outputs": [],
   "source": []
  }
 ],
 "metadata": {
  "kernelspec": {
   "display_name": "base",
   "language": "python",
   "name": "python3"
  },
  "language_info": {
   "codemirror_mode": {
    "name": "ipython",
    "version": 3
   },
   "file_extension": ".py",
   "mimetype": "text/x-python",
   "name": "python",
   "nbconvert_exporter": "python",
   "pygments_lexer": "ipython3",
   "version": "3.8.3"
  }
 },
 "nbformat": 4,
 "nbformat_minor": 2
}
