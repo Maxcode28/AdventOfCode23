{
 "cells": [
  {
   "cell_type": "code",
   "execution_count": 1,
   "metadata": {},
   "outputs": [],
   "source": [
    "class Rock:\n",
    "    def __init__(self, shape, row, column) -> None:\n",
    "        self.shape = shape\n",
    "        self.row = row \n",
    "        self.column = column\n",
    "        self.movement = True if shape != \"#\" else False\n",
    "        self.score = 0\n",
    "\n",
    "    def rolling(self, pltf):\n",
    "        while (self.movement == True and self.row > 0):\n",
    "            if pltf[self.row - 1][self.column] == \".\":\n",
    "                self.row -= 1\n",
    "                self.movement = True\n",
    "            else:\n",
    "                self.movement = False\n",
    "        self.movement = False\n",
    "    \n",
    "    def north_score(self, number_of_rows):\n",
    "        if self.shape == \"O\":\n",
    "            self.score = number_of_rows - self.row \n",
    "        return self.score"
   ]
  },
  {
   "cell_type": "code",
   "execution_count": 2,
   "metadata": {},
   "outputs": [
    {
     "name": "stdout",
     "output_type": "stream",
     "text": [
      "Part 1: The load is: 108918\n"
     ]
    }
   ],
   "source": [
    "rocks = []\n",
    "platform = []\n",
    "with open(r\"input-14.txt\", \"r\") as file:\n",
    "#with open(r\"test-input-14.txt\", \"r\") as file:\n",
    "    for r_num, row in enumerate(file):\n",
    "        row = row.replace(\"\\n\", \"\")\n",
    "        fields = [c for c in row]\n",
    "        platform.append(fields.copy())\n",
    "        for col, field in enumerate(fields):\n",
    "            if field != \".\":\n",
    "                rocks.append(Rock(field, r_num, col))\n",
    "\n",
    "    platform_length = len(platform)\n",
    "    load = 0\n",
    "    for ro in rocks:\n",
    "        platform[ro.row][ro.column] = \".\"\n",
    "        ro.rolling(platform)\n",
    "        platform[ro.row][ro.column] = ro.shape\n",
    "        load += ro.north_score(platform_length)\n",
    "\n",
    "    print(\"Part 1: The load is:\",load)\n"
   ]
  }
 ],
 "metadata": {
  "kernelspec": {
   "display_name": "base",
   "language": "python",
   "name": "python3"
  },
  "language_info": {
   "codemirror_mode": {
    "name": "ipython",
    "version": 3
   },
   "file_extension": ".py",
   "mimetype": "text/x-python",
   "name": "python",
   "nbconvert_exporter": "python",
   "pygments_lexer": "ipython3",
   "version": "3.8.3"
  }
 },
 "nbformat": 4,
 "nbformat_minor": 2
}
