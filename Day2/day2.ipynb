{
 "cells": [
  {
   "cell_type": "code",
   "execution_count": 1,
   "metadata": {},
   "outputs": [],
   "source": [
    "class Game:\n",
    "    def __init__(self, id):\n",
    "        self.id = id\n",
    "        self.r = 0\n",
    "        self.g = 0\n",
    "        self.b = 0\n",
    "    \n",
    "    def input(self, data):\n",
    "        #print(data)\n",
    "        s_data = data.split(\" \")\n",
    "        val = int(s_data[0])\n",
    "        colour = s_data[1]\n",
    "        r = 0\n",
    "        g = 0\n",
    "        b = 0\n",
    "        if colour == \"red\":\n",
    "            r = val\n",
    "        elif colour == \"green\":\n",
    "            g = val\n",
    "        elif colour == \"blue\":\n",
    "            b = val\n",
    "        \n",
    "        if r > self.r:\n",
    "            self.r = r\n",
    "        if g > self.g:\n",
    "            self.g = g\n",
    "        if b > self.b:\n",
    "            self.b = b\n",
    "        #print([self.r, self.g, self.b,self.id])\n",
    "\n",
    "    def compatability(self, r, g, b):\n",
    "        if r < self.r:\n",
    "            return (False, 0)\n",
    "        if g < self.g:\n",
    "            return (False, 0)\n",
    "        if b < self.b:\n",
    "            return (False, 0)\n",
    "        return (True, self.id)\n",
    "    \n",
    "    def power(self):\n",
    "        return (self.r * self.g * self.b)\n",
    "        "
   ]
  },
  {
   "cell_type": "code",
   "execution_count": 2,
   "metadata": {},
   "outputs": [],
   "source": [
    "game_objs = []\n",
    "games = []\n",
    "with open(r\"input-2.txt\", \"r\") as file:\n",
    "    for row in file:\n",
    "        row = row.replace(\"\\n\",'')\n",
    "        g_res = row.split(\": \")\n",
    "        games.append(g_res[1])\n",
    "        game_id = int(g_res[0].split(\"Game \")[1])\n",
    "        game_objs.append(Game(game_id))\n",
    "\n",
    "for idx, game in enumerate(games):\n",
    "    g_grabs = game.replace(';',',')\n",
    "    grabs = g_grabs.split(\", \")\n",
    "    for grab in grabs:\n",
    "        game_objs[idx].input(grab)\n",
    "\n",
    "    \n"
   ]
  },
  {
   "cell_type": "code",
   "execution_count": 3,
   "metadata": {},
   "outputs": [
    {
     "name": "stdout",
     "output_type": "stream",
     "text": [
      "Sum of compatible game IDs: 2076\n",
      "Compatible games: [2, 4, 5, 6, 8, 9, 10, 11, 12, 14, 15, 17, 18, 24, 25, 27, 30, 31, 33, 34, 35, 37, 38, 39, 42, 44, 46, 48, 50, 52, 54, 57, 63, 65, 67, 70, 71, 72, 77, 79, 83, 84, 86, 93, 94, 97, 98]\n",
      "Power of games: 70950\n"
     ]
    }
   ],
   "source": [
    "r = 12\n",
    "g = 13\n",
    "b = 14\n",
    "sum = 0\n",
    "pow = 0\n",
    "ids = []\n",
    "for ga in game_objs:\n",
    "    [compatible, ga_id] = ga.compatability(r,g,b)\n",
    "    if compatible:\n",
    "        sum = sum + ga_id\n",
    "        ids.append(ga_id)\n",
    "    pow = pow + ga.power()\n",
    "    \n",
    "print(\"Sum of compatible game IDs:\", sum)\n",
    "print(\"Compatible games:\", ids)\n",
    "\n",
    "print(\"Power of games:\",pow)"
   ]
  }
 ],
 "metadata": {
  "kernelspec": {
   "display_name": "base",
   "language": "python",
   "name": "python3"
  },
  "language_info": {
   "codemirror_mode": {
    "name": "ipython",
    "version": 3
   },
   "file_extension": ".py",
   "mimetype": "text/x-python",
   "name": "python",
   "nbconvert_exporter": "python",
   "pygments_lexer": "ipython3",
   "version": "3.8.3"
  }
 },
 "nbformat": 4,
 "nbformat_minor": 2
}
