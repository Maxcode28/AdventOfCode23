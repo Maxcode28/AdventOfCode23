{
 "cells": [
  {
   "cell_type": "code",
   "execution_count": 1,
   "metadata": {},
   "outputs": [],
   "source": [
    "class OASIS:\n",
    "    def __init__(self, data_raw):\n",
    "        self.raw = data_raw\n",
    "        prediction = self._get_prediction(data_raw)\n",
    "        self.predicted = int(data_raw[-1]) + prediction[1]\n",
    "        self.predicted_front = int(data_raw[0]) - prediction[0]\n",
    "\n",
    "    def _get_prediction(self, data):\n",
    "        differences_list = []\n",
    "        no_diff = True\n",
    "        for i in range(len(data)-1):\n",
    "            diff = int(data[i + 1]) - int(data[i])\n",
    "            differences_list.append(diff)\n",
    "            if diff != 0:\n",
    "                no_diff = False\n",
    "        update_end = differences_list[-1]\n",
    "        update_start = differences_list[0]\n",
    "        if not no_diff:\n",
    "            prediction = self._get_prediction(differences_list)\n",
    "            update_end += prediction[1]\n",
    "            update_start -= prediction[0]\n",
    "        return [update_start, update_end]\n"
   ]
  },
  {
   "cell_type": "code",
   "execution_count": 2,
   "metadata": {},
   "outputs": [
    {
     "name": "stdout",
     "output_type": "stream",
     "text": [
      "Part 1: 1868368343\n",
      "Part 2: 1022\n"
     ]
    }
   ],
   "source": [
    "history = []\n",
    "with open(r\"input-9.txt\", \"r\") as file:\n",
    "#with open(r\"test-input-9.txt\", \"r\") as file:\n",
    "    for r_num, row in enumerate(file):\n",
    "        row = row.replace(\"\\n\", \"\")\n",
    "        row = row.split(\" \")\n",
    "        history.append(OASIS(row))\n",
    "\n",
    "sum = 0\n",
    "sum_2 = 0\n",
    "for h in history:\n",
    "    sum += h.predicted\n",
    "    sum_2 += h.predicted_front\n",
    "print(\"Part 1:\",sum) \n",
    "print(\"Part 2:\", sum_2)\n"
   ]
  }
 ],
 "metadata": {
  "kernelspec": {
   "display_name": "base",
   "language": "python",
   "name": "python3"
  },
  "language_info": {
   "codemirror_mode": {
    "name": "ipython",
    "version": 3
   },
   "file_extension": ".py",
   "mimetype": "text/x-python",
   "name": "python",
   "nbconvert_exporter": "python",
   "pygments_lexer": "ipython3",
   "version": "3.8.3"
  }
 },
 "nbformat": 4,
 "nbformat_minor": 2
}
